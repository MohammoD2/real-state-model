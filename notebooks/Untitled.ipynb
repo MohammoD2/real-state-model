{
 "cells": [
  {
   "cell_type": "code",
   "execution_count": 1,
   "id": "3d7a4ee5",
   "metadata": {},
   "outputs": [],
   "source": [
    "import pandas as pd\n",
    "\n",
    "# Specify the full path to your CSV file\n",
    "\n",
    "\n",
    "# Now 'df' contains your data from the CSV file\n",
    "\n"
   ]
  },
  {
   "cell_type": "code",
   "execution_count": 2,
   "id": "767a1d3e",
   "metadata": {},
   "outputs": [],
   "source": [
    "import numpy as np\n",
    "import pandas as pd\n",
    "import re"
   ]
  },
  {
   "cell_type": "code",
   "execution_count": 3,
   "id": "bec53b5b",
   "metadata": {},
   "outputs": [],
   "source": [
    "pd.set_option('display.max_colwidth', None)\n",
    "pd.set_option('display.max_rows', None)\n",
    "pd.set_option('display.max_columns', None)"
   ]
  },
  {
   "cell_type": "code",
   "execution_count": 4,
   "id": "b1f1f7fa",
   "metadata": {},
   "outputs": [],
   "source": [
    "csv_file_path = r\"E:\\Work files\\Real_state\\Real state\\data\\raw\\gurgaon_properties_cleaned_v1.csv\"\n",
    "\n",
    "# Read the CSV file\n",
    "df = pd.read_csv(csv_file_path)"
   ]
  },
  {
   "cell_type": "code",
   "execution_count": 5,
   "id": "2ddaf296",
   "metadata": {},
   "outputs": [
    {
     "data": {
      "text/html": [
       "<div>\n",
       "<style scoped>\n",
       "    .dataframe tbody tr th:only-of-type {\n",
       "        vertical-align: middle;\n",
       "    }\n",
       "\n",
       "    .dataframe tbody tr th {\n",
       "        vertical-align: top;\n",
       "    }\n",
       "\n",
       "    .dataframe thead th {\n",
       "        text-align: right;\n",
       "    }\n",
       "</style>\n",
       "<table border=\"1\" class=\"dataframe\">\n",
       "  <thead>\n",
       "    <tr style=\"text-align: right;\">\n",
       "      <th></th>\n",
       "      <th>property_type</th>\n",
       "      <th>society</th>\n",
       "      <th>sector</th>\n",
       "      <th>price</th>\n",
       "      <th>price_per_sqft</th>\n",
       "      <th>area</th>\n",
       "      <th>areaWithType</th>\n",
       "      <th>bedRoom</th>\n",
       "      <th>bathroom</th>\n",
       "      <th>balcony</th>\n",
       "      <th>additionalRoom</th>\n",
       "      <th>floorNum</th>\n",
       "      <th>facing</th>\n",
       "      <th>agePossession</th>\n",
       "      <th>nearbyLocations</th>\n",
       "      <th>furnishDetails</th>\n",
       "      <th>features</th>\n",
       "    </tr>\n",
       "  </thead>\n",
       "  <tbody>\n",
       "    <tr>\n",
       "      <th>0</th>\n",
       "      <td>flat</td>\n",
       "      <td>signature global park 4</td>\n",
       "      <td>sector 36</td>\n",
       "      <td>0.82</td>\n",
       "      <td>7585.0</td>\n",
       "      <td>1081.0</td>\n",
       "      <td>Super Built up area 1081(100.43 sq.m.)Carpet area: 650 sq.ft. (60.39 sq.m.)</td>\n",
       "      <td>3</td>\n",
       "      <td>2</td>\n",
       "      <td>2</td>\n",
       "      <td>not available</td>\n",
       "      <td>2.0</td>\n",
       "      <td>NaN</td>\n",
       "      <td>0 to 1 Year Old</td>\n",
       "      <td>['Sector 55-56 Metro Station', 'The Leaf Mall Sohna', 'Omaxe Gurgaon Mall', 'Badshahpur Sohna Rd Hwy', 'Vidya Niketan School', 'KIIT College of Engg', 'Scottish High International School', 'Rawal Institutions', 'Park Hospital', 'Indira Gandhi Intl Airport', 'Spaze Business Park', 'DLF Cyber City']</td>\n",
       "      <td>NaN</td>\n",
       "      <td>['Lift(s)', 'Park']</td>\n",
       "    </tr>\n",
       "  </tbody>\n",
       "</table>\n",
       "</div>"
      ],
      "text/plain": [
       "  property_type                  society     sector  price  price_per_sqft  \\\n",
       "0          flat  signature global park 4  sector 36   0.82          7585.0   \n",
       "\n",
       "     area  \\\n",
       "0  1081.0   \n",
       "\n",
       "                                                                  areaWithType  \\\n",
       "0  Super Built up area 1081(100.43 sq.m.)Carpet area: 650 sq.ft. (60.39 sq.m.)   \n",
       "\n",
       "   bedRoom  bathroom balcony additionalRoom  floorNum facing    agePossession  \\\n",
       "0        3         2       2  not available       2.0    NaN  0 to 1 Year Old   \n",
       "\n",
       "                                                                                                                                                                                                                                                                                              nearbyLocations  \\\n",
       "0  ['Sector 55-56 Metro Station', 'The Leaf Mall Sohna', 'Omaxe Gurgaon Mall', 'Badshahpur Sohna Rd Hwy', 'Vidya Niketan School', 'KIIT College of Engg', 'Scottish High International School', 'Rawal Institutions', 'Park Hospital', 'Indira Gandhi Intl Airport', 'Spaze Business Park', 'DLF Cyber City']   \n",
       "\n",
       "  furnishDetails             features  \n",
       "0            NaN  ['Lift(s)', 'Park']  "
      ]
     },
     "execution_count": 5,
     "metadata": {},
     "output_type": "execute_result"
    }
   ],
   "source": [
    "df.head(1)"
   ]
  },
  {
   "cell_type": "code",
   "execution_count": 8,
   "id": "bc84f8d7",
   "metadata": {},
   "outputs": [
    {
     "data": {
      "text/html": [
       "<div>\n",
       "<style scoped>\n",
       "    .dataframe tbody tr th:only-of-type {\n",
       "        vertical-align: middle;\n",
       "    }\n",
       "\n",
       "    .dataframe tbody tr th {\n",
       "        vertical-align: top;\n",
       "    }\n",
       "\n",
       "    .dataframe thead th {\n",
       "        text-align: right;\n",
       "    }\n",
       "</style>\n",
       "<table border=\"1\" class=\"dataframe\">\n",
       "  <thead>\n",
       "    <tr style=\"text-align: right;\">\n",
       "      <th></th>\n",
       "      <th>area</th>\n",
       "      <th>areaWithType</th>\n",
       "    </tr>\n",
       "  </thead>\n",
       "  <tbody>\n",
       "    <tr>\n",
       "      <th>970</th>\n",
       "      <td>3200.0</td>\n",
       "      <td>Super Built up area 3200(297.29 sq.m.)Carpet area: 3000 sq.ft. (278.71 sq.m.)</td>\n",
       "    </tr>\n",
       "    <tr>\n",
       "      <th>1427</th>\n",
       "      <td>2150.0</td>\n",
       "      <td>Built Up area: 2150 (199.74 sq.m.)</td>\n",
       "    </tr>\n",
       "    <tr>\n",
       "      <th>3305</th>\n",
       "      <td>2160.0</td>\n",
       "      <td>Plot area 240(200.67 sq.m.)</td>\n",
       "    </tr>\n",
       "    <tr>\n",
       "      <th>2769</th>\n",
       "      <td>783.0</td>\n",
       "      <td>Built Up area: 1423 (132.2 sq.m.)Carpet area: 783 sq.ft. (72.74 sq.m.)</td>\n",
       "    </tr>\n",
       "    <tr>\n",
       "      <th>3186</th>\n",
       "      <td>2808.0</td>\n",
       "      <td>Super Built up area 2812(261.24 sq.m.)Built Up area: 2225 sq.ft. (206.71 sq.m.)Carpet area: 2175 sq.ft. (202.06 sq.m.)</td>\n",
       "    </tr>\n",
       "  </tbody>\n",
       "</table>\n",
       "</div>"
      ],
      "text/plain": [
       "        area  \\\n",
       "970   3200.0   \n",
       "1427  2150.0   \n",
       "3305  2160.0   \n",
       "2769   783.0   \n",
       "3186  2808.0   \n",
       "\n",
       "                                                                                                                areaWithType  \n",
       "970                                            Super Built up area 3200(297.29 sq.m.)Carpet area: 3000 sq.ft. (278.71 sq.m.)  \n",
       "1427                                                                                      Built Up area: 2150 (199.74 sq.m.)  \n",
       "3305                                                                                             Plot area 240(200.67 sq.m.)  \n",
       "2769                                                  Built Up area: 1423 (132.2 sq.m.)Carpet area: 783 sq.ft. (72.74 sq.m.)  \n",
       "3186  Super Built up area 2812(261.24 sq.m.)Built Up area: 2225 sq.ft. (206.71 sq.m.)Carpet area: 2175 sq.ft. (202.06 sq.m.)  "
      ]
     },
     "execution_count": 8,
     "metadata": {},
     "output_type": "execute_result"
    }
   ],
   "source": [
    "df[[\"area\",\"areaWithType\"]].sample(5)"
   ]
  },
  {
   "cell_type": "code",
   "execution_count": 20,
   "id": "aedb55d6",
   "metadata": {},
   "outputs": [
    {
     "name": "stdout",
     "output_type": "stream",
     "text": [
      "Super Built up area 1500\n"
     ]
    }
   ],
   "source": [
    "import re\n",
    "\n",
    "text = \"Super Built up area 1500 sq. ft.\"\n",
    "match = re.search(r'Super Built up area (\\d+\\.?\\d*)', text)\n",
    "if match:\n",
    "    area_value = match.group(0)\n",
    "    print(area_value)\n"
   ]
  },
  {
   "cell_type": "code",
   "execution_count": 9,
   "id": "1ad66f18",
   "metadata": {},
   "outputs": [],
   "source": [
    "# This function extracts the Super Built up area\n",
    "def get_super_built_up_area(text):\n",
    "    match = re.search(r'Super Built up area (\\d+\\.?\\d*)', text)\n",
    "    if match:\n",
    "        return float(match.group(1))\n",
    "    return None"
   ]
  },
  {
   "cell_type": "code",
   "execution_count": 10,
   "id": "cc751d25",
   "metadata": {},
   "outputs": [],
   "source": [
    "# This function extracts the Built Up area or Carpet area\n",
    "def get_area(text, area_type):\n",
    "    match = re.search(area_type + r'\\s*:\\s*(\\d+\\.?\\d*)', text)\n",
    "    if match:\n",
    "        return float(match.group(1))\n",
    "    return None"
   ]
  },
  {
   "cell_type": "code",
   "execution_count": 11,
   "id": "ca87af2f",
   "metadata": {},
   "outputs": [],
   "source": [
    "def convert_to_sqft(text, area_value):\n",
    "    if area_value is None:\n",
    "        return None\n",
    "    match = re.search(r'{} \\((\\d+\\.?\\d*) sq.m.\\)'.format(area_value), text)\n",
    "    if match:\n",
    "        sq_m_value = float(match.group(1))\n",
    "        return sq_m_value * 10.7639  # conversion factor from sq.m. to sqft\n",
    "    return area_value"
   ]
  },
  {
   "cell_type": "code",
   "execution_count": 12,
   "id": "340fb346",
   "metadata": {},
   "outputs": [],
   "source": [
    "# Extract Super Built up area and convert to sqft if needed\n",
    "df['super_built_up_area'] = df['areaWithType'].apply(get_super_built_up_area)\n",
    "df['super_built_up_area'] = df.apply(lambda x: convert_to_sqft(x['areaWithType'], x['super_built_up_area']), axis=1)\n",
    "\n",
    "# Extract Built Up area and convert to sqft if needed\n",
    "df['built_up_area'] = df['areaWithType'].apply(lambda x: get_area(x, 'Built Up area'))\n",
    "df['built_up_area'] = df.apply(lambda x: convert_to_sqft(x['areaWithType'], x['built_up_area']), axis=1)\n",
    "\n",
    "# Extract Carpet area and convert to sqft if needed\n",
    "df['carpet_area'] = df['areaWithType'].apply(lambda x: get_area(x, 'Carpet area'))\n",
    "df['carpet_area'] = df.apply(lambda x: convert_to_sqft(x['areaWithType'], x['carpet_area']), axis=1)"
   ]
  },
  {
   "cell_type": "code",
   "execution_count": null,
   "id": "0f591ef5",
   "metadata": {},
   "outputs": [],
   "source": []
  }
 ],
 "metadata": {
  "kernelspec": {
   "display_name": "Python 3 (ipykernel)",
   "language": "python",
   "name": "python3"
  },
  "language_info": {
   "codemirror_mode": {
    "name": "ipython",
    "version": 3
   },
   "file_extension": ".py",
   "mimetype": "text/x-python",
   "name": "python",
   "nbconvert_exporter": "python",
   "pygments_lexer": "ipython3",
   "version": "3.11.4"
  }
 },
 "nbformat": 4,
 "nbformat_minor": 5
}
